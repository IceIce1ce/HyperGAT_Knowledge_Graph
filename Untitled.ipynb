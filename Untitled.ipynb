{
 "cells": [
  {
   "cell_type": "code",
   "execution_count": 264,
   "id": "210c4cc7",
   "metadata": {},
   "outputs": [
    {
     "data": {
      "text/plain": [
       "'1.0.0'"
      ]
     },
     "execution_count": 264,
     "metadata": {},
     "output_type": "execute_result"
    }
   ],
   "source": [
    "import torch\n",
    "\n",
    "torch.__version__"
   ]
  },
  {
   "cell_type": "code",
   "execution_count": 265,
   "id": "493e797c",
   "metadata": {},
   "outputs": [],
   "source": [
    "import os\n",
    "\n",
    "os.environ[\"CUDA_VISIBLE_DEVICES\"]=\"2\""
   ]
  },
  {
   "cell_type": "code",
   "execution_count": 266,
   "id": "9f60a7dc",
   "metadata": {},
   "outputs": [
    {
     "data": {
      "text/plain": [
       "True"
      ]
     },
     "execution_count": 266,
     "metadata": {},
     "output_type": "execute_result"
    }
   ],
   "source": [
    "torch.cuda.is_available()"
   ]
  },
  {
   "cell_type": "code",
   "execution_count": 249,
   "id": "6e0a1cd9",
   "metadata": {},
   "outputs": [],
   "source": [
    "!sh prepare.sh"
   ]
  },
  {
   "cell_type": "code",
   "execution_count": null,
   "id": "5de839fb",
   "metadata": {},
   "outputs": [],
   "source": [
    "'''best setting 1 WN18RR\n",
    "!python3.8 main.py --data ./data/WN18RR/ \\\n",
    "           --get_2hop True --epochs_gat 3000 \\\n",
    "           --lr 0.0002 --drop_conv 0.3 --out_channels 50 > output.txt'''"
   ]
  },
  {
   "cell_type": "code",
   "execution_count": null,
   "id": "06d1e74d",
   "metadata": {},
   "outputs": [],
   "source": [
    "'''best setting 2 WN18RR\n",
    "!python3.8 main.py --data ./data/WN18RR/ \\\n",
    "           --get_2hop True --epochs_gat 3600 \\\n",
    "           --lr 0.0002 --drop_conv 0.3 --out_channels 50 > output.txt'''"
   ]
  },
  {
   "cell_type": "code",
   "execution_count": null,
   "id": "1faa0f7b",
   "metadata": {},
   "outputs": [],
   "source": [
    "'''best setting 3 WN18RR\n",
    "!python3.8 main.py --data ./data/WN18RR/ --weight_decay_gat 0.00001 \\\n",
    "           --get_2hop True --epochs_gat 3600 \\\n",
    "           --lr 0.0002 --drop_conv 0.3 --out_channels 50 > output.txt'''"
   ]
  },
  {
   "cell_type": "code",
   "execution_count": null,
   "id": "a533d2bd",
   "metadata": {},
   "outputs": [],
   "source": [
    "!python3.8 main.py --data ./data/WN18RR/ \\\n",
    "           --get_2hop True --epochs_gat 3000 \\\n",
    "           --lr 0.0002 --drop_conv 0.3 --out_channels 50 --partial_2hop True > output.txt"
   ]
  }
 ],
 "metadata": {
  "kernelspec": {
   "display_name": "Python 3 (ipykernel)",
   "language": "python",
   "name": "python3"
  },
  "language_info": {
   "codemirror_mode": {
    "name": "ipython",
    "version": 3
   },
   "file_extension": ".py",
   "mimetype": "text/x-python",
   "name": "python",
   "nbconvert_exporter": "python",
   "pygments_lexer": "ipython3",
   "version": "3.7.4"
  }
 },
 "nbformat": 4,
 "nbformat_minor": 5
}
