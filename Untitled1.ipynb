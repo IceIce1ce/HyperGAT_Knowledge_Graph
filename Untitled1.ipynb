{
 "cells": [
  {
   "cell_type": "code",
   "execution_count": 21,
   "id": "f8e39aad",
   "metadata": {},
   "outputs": [],
   "source": [
    "import os\n",
    "\n",
    "os.environ[\"CUDA_VISIBLE_DEVICES\"]=\"0\""
   ]
  },
  {
   "cell_type": "code",
   "execution_count": 22,
   "id": "8ac27f80",
   "metadata": {},
   "outputs": [
    {
     "data": {
      "text/plain": [
       "True"
      ]
     },
     "execution_count": 22,
     "metadata": {},
     "output_type": "execute_result"
    }
   ],
   "source": [
    "torch.cuda.is_available()"
   ]
  },
  {
   "cell_type": "code",
   "execution_count": 23,
   "id": "7b9568b2",
   "metadata": {},
   "outputs": [],
   "source": [
    "!sh prepare.sh"
   ]
  },
  {
   "cell_type": "code",
   "execution_count": 13,
   "id": "b4506246",
   "metadata": {},
   "outputs": [
    {
     "ename": "IndentationError",
     "evalue": "unexpected indent (366429442.py, line 2)",
     "output_type": "error",
     "traceback": [
      "\u001b[0;36m  File \u001b[0;32m\"/tmp/ipykernel_329085/366429442.py\"\u001b[0;36m, line \u001b[0;32m2\u001b[0m\n\u001b[0;31m    --batch_size_gat 272115 --margin 1 --out_channels 50 --drop_conv 0.3 \\\u001b[0m\n\u001b[0m    ^\u001b[0m\n\u001b[0;31mIndentationError\u001b[0m\u001b[0;31m:\u001b[0m unexpected indent\n"
     ]
    }
   ],
   "source": [
    "'''best setting 1 FB15k237\n",
    "!python3.8 main.py --data ./data/FB15k-237/ --epochs_gat 3000 --epochs_conv 200 --lr 0.0002 \\\n",
    "                   --weight_decay_gat 0.00001 --get_2hop True --partial_2hop True \\\n",
    "                   --batch_size_gat 272115 --margin 1 --out_channels 50 --drop_conv 0.3 \\\n",
    "                   --weight_decay_conv 0.000001 --output_folder ./checkpoints/fb/out/ > output_fb.txt'''"
   ]
  },
  {
   "cell_type": "code",
   "execution_count": null,
   "id": "48b67569",
   "metadata": {},
   "outputs": [],
   "source": [
    "!python3.8 main.py --data ./data/FB15k-237/ --epochs_gat 3000 --epochs_conv 200 --lr 0.0002 \\\n",
    "                   --weight_decay_gat 0.00001 --get_2hop True --partial_2hop True \\\n",
    "                   --batch_size_gat 272115 --margin 1 --out_channels 50 --drop_conv 0.3 \\\n",
    "                   --weight_decay_conv 0.00001 --output_folder ./checkpoints/fb/out/ > output_fb.txt"
   ]
  }
 ],
 "metadata": {
  "kernelspec": {
   "display_name": "Python 3 (ipykernel)",
   "language": "python",
   "name": "python3"
  },
  "language_info": {
   "codemirror_mode": {
    "name": "ipython",
    "version": 3
   },
   "file_extension": ".py",
   "mimetype": "text/x-python",
   "name": "python",
   "nbconvert_exporter": "python",
   "pygments_lexer": "ipython3",
   "version": "3.7.4"
  }
 },
 "nbformat": 4,
 "nbformat_minor": 5
}
